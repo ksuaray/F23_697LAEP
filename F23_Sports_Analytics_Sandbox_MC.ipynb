{
  "nbformat": 4,
  "nbformat_minor": 0,
  "metadata": {
    "colab": {
      "provenance": [],
      "include_colab_link": true
    },
    "kernelspec": {
      "name": "python3",
      "display_name": "Python 3"
    },
    "language_info": {
      "name": "python"
    }
  },
  "cells": [
    {
      "cell_type": "markdown",
      "metadata": {
        "id": "view-in-github",
        "colab_type": "text"
      },
      "source": [
        "<a href=\"https://colab.research.google.com/github/ksuaray/F23_697LAEP/blob/main/F23_Sports_Analytics_Sandbox_MC.ipynb\" target=\"_parent\"><img src=\"https://colab.research.google.com/assets/colab-badge.svg\" alt=\"Open In Colab\"/></a>"
      ]
    },
    {
      "cell_type": "markdown",
      "source": [
        "#Week 1"
      ],
      "metadata": {
        "id": "YIk-poSDsLZY"
      }
    },
    {
      "cell_type": "markdown",
      "source": [
        "As part of your partiicipation in this class, you will audit the self-paced course [Foundations of Sports Analytics: Data, Representation, and Models in Sports](https://www.coursera.org/learn/foundations-sports-analytics/home/welcome) on Coursera. As you learn new insights, record your thoughts and try the related code in this notebook."
      ],
      "metadata": {
        "id": "IG_31HuAsLIk"
      }
    },
    {
      "cell_type": "code",
      "source": [],
      "metadata": {
        "id": "fKDJ2df4sKb-"
      },
      "execution_count": null,
      "outputs": []
    },
    {
      "cell_type": "markdown",
      "source": [
        "#Week 2"
      ],
      "metadata": {
        "id": "srKDXdbyIQRg"
      }
    },
    {
      "cell_type": "markdown",
      "source": [
        "###FCPython"
      ],
      "metadata": {
        "id": "z2-3nDrmS962"
      }
    },
    {
      "cell_type": "markdown",
      "source": [
        "**HOMEWORK 1** Visit the webpage https://fcpython.com/data-analysis-crash-course\n",
        "In the Data Analysis tab, complete the Data Analysis **Part One: NumPy** and Data Analysis **Part Two: Pandas** sections 1, 2 and 3.\n",
        "Run all code here using the *NCAA_Acad.csv* data.\n",
        "\n"
      ],
      "metadata": {
        "id": "C77FYHg-UGjs"
      }
    },
    {
      "cell_type": "markdown",
      "source": [
        "###1. Arrays in NumPy"
      ],
      "metadata": {
        "id": "jqSp5qezWAH9"
      }
    },
    {
      "cell_type": "code",
      "source": [
        "import numpy as np\n",
        "GKNames = [\"Kaller\",\"Fradeel\",\"Hayward\",\"Honeyman\"]\n",
        "GKHeights = [184,188,191,193]\n",
        "GKWeights = [81,85,103,99]\n",
        "print(np.array(GKNames))"
      ],
      "metadata": {
        "id": "KVZY_wrpWA7q",
        "colab": {
          "base_uri": "https://localhost:8080/"
        },
        "outputId": "070ba8fb-e332-44d1-e88f-8612accbfba6"
      },
      "execution_count": null,
      "outputs": [
        {
          "output_type": "stream",
          "name": "stdout",
          "text": [
            "['Kaller' 'Fradeel' 'Hayward' 'Honeyman']\n"
          ]
        }
      ]
    },
    {
      "cell_type": "markdown",
      "source": [
        "###2. Indexing NumPy Arrays"
      ],
      "metadata": {
        "id": "wkMfI3SjWBcC"
      }
    },
    {
      "cell_type": "code",
      "source": [],
      "metadata": {
        "id": "A_3NvkN-WCDg"
      },
      "execution_count": null,
      "outputs": []
    },
    {
      "cell_type": "markdown",
      "source": [],
      "metadata": {
        "id": "97yZbisiRkVc"
      }
    },
    {
      "cell_type": "markdown",
      "source": [
        "###3. Pandas: Series"
      ],
      "metadata": {
        "id": "C648V1ifWClQ"
      }
    },
    {
      "cell_type": "code",
      "source": [],
      "metadata": {
        "id": "wmiCK4nUWDG9"
      },
      "execution_count": null,
      "outputs": []
    },
    {
      "cell_type": "markdown",
      "source": [
        "###4. Pandas: DataFrames"
      ],
      "metadata": {
        "id": "91WmTuk2WDr8"
      }
    },
    {
      "cell_type": "code",
      "source": [],
      "metadata": {
        "id": "GRueK8S4WFB6"
      },
      "execution_count": null,
      "outputs": []
    },
    {
      "cell_type": "markdown",
      "source": [
        "###4. Pandas: Dealing with Missing Data"
      ],
      "metadata": {
        "id": "ahBLKZQEWFeW"
      }
    },
    {
      "cell_type": "code",
      "source": [],
      "metadata": {
        "id": "BoD3oun-WF6-"
      },
      "execution_count": null,
      "outputs": []
    },
    {
      "cell_type": "markdown",
      "source": [],
      "metadata": {
        "id": "5qc3AxSjWGei"
      }
    },
    {
      "cell_type": "code",
      "source": [],
      "metadata": {
        "id": "FUPROPcYWG3h"
      },
      "execution_count": null,
      "outputs": []
    },
    {
      "cell_type": "markdown",
      "source": [
        "###Coursera Video Notes"
      ],
      "metadata": {
        "id": "cgjPUJauSz0z"
      }
    },
    {
      "cell_type": "markdown",
      "source": [
        "Watch at least one video from your coursera course and take notes below. Attempt to use code and LaTeX. Be prepared to share what you learned on Monday."
      ],
      "metadata": {
        "id": "jcoWfZe5S3jL"
      }
    },
    {
      "cell_type": "markdown",
      "source": [],
      "metadata": {
        "id": "FQYidigPTwTW"
      }
    },
    {
      "cell_type": "markdown",
      "source": [
        "#Week 3"
      ],
      "metadata": {
        "id": "g5WaDeudtaZC"
      }
    }
  ]
}