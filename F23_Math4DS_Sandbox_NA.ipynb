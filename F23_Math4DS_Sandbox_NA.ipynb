{
  "nbformat": 4,
  "nbformat_minor": 0,
  "metadata": {
    "colab": {
      "provenance": [],
      "include_colab_link": true
    },
    "kernelspec": {
      "name": "python3",
      "display_name": "Python 3"
    },
    "language_info": {
      "name": "python"
    }
  },
  "cells": [
    {
      "cell_type": "markdown",
      "metadata": {
        "id": "view-in-github",
        "colab_type": "text"
      },
      "source": [
        "<a href=\"https://colab.research.google.com/github/ksuaray/F23_697LAEP/blob/main/F23_Math4DS_Sandbox_NA.ipynb\" target=\"_parent\"><img src=\"https://colab.research.google.com/assets/colab-badge.svg\" alt=\"Open In Colab\"/></a>"
      ]
    },
    {
      "cell_type": "markdown",
      "source": [],
      "metadata": {
        "id": "nNvRW-3eyXbe"
      }
    },
    {
      "cell_type": "markdown",
      "source": [
        "#Week 3\n",
        "In addition to reviewing important concepts from math and statistics for data science, we'll also learn how to use Python to do some of the derivations and calculations using the **SymPy** library: https://www.sympy.org/en/index.html\n",
        "\n",
        "You can access the book *Essential Math for Data Science* through the CSULB Library [here](https://learning.oreilly.com/library/view/essential-math-for/9781098102920/?ar=). We will be using this text extensively this semester."
      ],
      "metadata": {
        "id": "rC5rXnDmyWHj"
      }
    },
    {
      "cell_type": "markdown",
      "source": [
        "**HOMEWORK** Start reading Chapter 1 of *Essential Math for Data Science*.\n",
        "1. Use **SymPy** do verify your answers to the six integrals above.\n",
        "\n",
        "2. From Chapter 1 Exercises in *Essential Math for Data Science* (pg. 39). Complete #s .\n",
        "\n",
        "3. Evaluate $\\int \\frac{1}{5}xe^{-x/5}dx$ by hand. Show your work using LaTeX.\n",
        "\n",
        "4. Use SymPy to verify your answer for 3."
      ],
      "metadata": {
        "id": "Sczei6wry-uj"
      }
    },
    {
      "cell_type": "markdown",
      "source": [
        "mon: 10 am - 12pm\n",
        "\n",
        "wed: 5pm -"
      ],
      "metadata": {
        "id": "oJCrxPu5zTWq"
      }
    },
    {
      "cell_type": "markdown",
      "source": [],
      "metadata": {
        "id": "qFWPxaJZymfw"
      }
    },
    {
      "cell_type": "code",
      "execution_count": null,
      "metadata": {
        "id": "8YxYvjxix4gU",
        "colab": {
          "base_uri": "https://localhost:8080/"
        },
        "outputId": "1cf02c92-f3c8-41ed-83ed-009a8b0a75bd"
      },
      "outputs": [
        {
          "output_type": "stream",
          "name": "stdout",
          "text": [
            "1.0*(-1.0*x - 5.0)*exp(-x/5) + C\n"
          ]
        }
      ],
      "source": [
        "from sympy import *\n",
        "from sympy.plotting import plot3d\n",
        "# Test from reading\n",
        "'''\n",
        "i, n = symbols('i n')\n",
        "\n",
        "summation = Sum(2*i,(i,1,n))\n",
        "\n",
        "\n",
        "up_5 = summation.subs(n, 5)\n",
        "up_5.doit()\n",
        "\n",
        "x = symbols('x')\n",
        "\n",
        "f = 1 / x\n",
        "\n",
        "result = limit(f, x, 0)\n",
        "result\n",
        "'''\n",
        "# 1. 6 integrals\n",
        "\n",
        "# 2. Exercises from Essential Math for Data Science (pg. 39)\n",
        "'''\n",
        "1. Is the value 62.6738 rational or irrational? Why or why not?\n",
        "\n",
        "  Yes, 62.6738 is a tational number because it can easily be expressed as a\n",
        "  fraction as shown here.\n",
        "\n",
        "  62(6738/1000)\n",
        "\n",
        "2. Evaluate the expression: 10^7 * 10*-5\n",
        "\n",
        "  10^7 * 10^-5 = 10^7 / 10^5    // Negative exponent becomes a fraction\n",
        "               = 10^2           // Simplify\n",
        "               = 100            // 10 to power of 2 is 100\n",
        "\n",
        "3.  Evaluate the expression: 81^(1/2)\n",
        "\n",
        "  81^(1/2) = sqrt(81)           // 1/2 exponent is a squareroot\n",
        "           = 9                  // sqrt of 81 is 9\n",
        "\n",
        "4. Evaluate the expression: 25^(3/2)\n",
        "\n",
        "  25^(3/2) = sqrt(25^3)         // 3/2 == 3 * 1/2, squareroot of 25 to the third\n",
        "           = sqrt(15625)        // Simplify\n",
        "           = 125\n",
        "\n",
        "5. Assuming no payments are made, how much would a $1,000 loan be worth at 5%\n",
        "   interest compounded monthly after 3 years?\n",
        "\n",
        "  total loan = 1,000 * (1 + 0.05/12)^(12*3)   // Using the compound interest equation\n",
        "             = 1,000 * (1.004166668)^(36)\n",
        "             = 1,000 * 1.1614722\n",
        "             = 1,161.47\n",
        "\n",
        "6. Assuming no payments are made, how much would a $1,000 loan be worth at 5%\n",
        "   interest compounded continuously after 3 years?\n",
        "\n",
        "   total loan = 1,000 * e^(0.05*3)     // Compound continuously equation (use e)\n",
        "              = 1,000 * 1.1618342427\n",
        "              = 1,161.83\n",
        "\n",
        "7. For the function f(x) = 3x^2 + 1 what is the slope at x = 3?\n",
        "\n",
        "  f'(x) = 6x    // get derivative of f(x)\n",
        "  f'(3) = 6(3)\n",
        "        = 18    // Slope of f(x) at x = 3\n",
        "\n",
        "8. For the function f(x) = 3x^2 + 1 what is the area under the curve for x\n",
        "   between 0 and 2?\n",
        "\n",
        "   F(x) = integral(3x^2+1) from 0 to 2\n",
        "        = x^3 + x from 0 to 2\n",
        "        = 2^3 + 2 - (0^3 + 0)\n",
        "        = 10\n",
        "'''\n",
        "\n",
        "# 3. Evaluate  ∫1/5𝑥𝑒−𝑥/5𝑑𝑥  by hand. Show your work using LaTeX.\n",
        "'''\n",
        "\n",
        "  F(x) = ∫1/5𝑥𝑒−𝑥/5𝑑𝑥\n",
        "       = 1/5∫xe^(-x/5) dx                  // Move constants outside\n",
        "       = 1/5(-5e^(-x/5)*x - ∫-5e^(-x/5)dx) // Integration by parts\n",
        "       = 1/5(-5e^(-x/5)*x - 25e^(-x/5))\n",
        "       = -e^(-x/5)*(x+5) + C              // Simplified\n",
        "\n",
        "\n",
        "'''\n",
        "\n",
        "# 4 Solve number 3 with SymPy\n",
        "x = symbols('x')\n",
        "\n",
        "F = integrate((1/5)*x*exp(-x/5))\n",
        "print(F,'+ C')\n"
      ]
    },
    {
      "cell_type": "code",
      "source": [],
      "metadata": {
        "id": "za71kdFm6fTb"
      },
      "execution_count": null,
      "outputs": []
    }
  ]
}