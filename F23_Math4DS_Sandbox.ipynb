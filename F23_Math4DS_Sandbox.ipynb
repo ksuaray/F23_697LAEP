{
  "nbformat": 4,
  "nbformat_minor": 0,
  "metadata": {
    "colab": {
      "provenance": [],
      "include_colab_link": true
    },
    "kernelspec": {
      "name": "python3",
      "display_name": "Python 3"
    },
    "language_info": {
      "name": "python"
    }
  },
  "cells": [
    {
      "cell_type": "markdown",
      "metadata": {
        "id": "view-in-github",
        "colab_type": "text"
      },
      "source": [
        "<a href=\"https://colab.research.google.com/github/ksuaray/F23_697LAEP/blob/main/F23_Math4DS_Sandbox.ipynb\" target=\"_parent\"><img src=\"https://colab.research.google.com/assets/colab-badge.svg\" alt=\"Open In Colab\"/></a>"
      ]
    },
    {
      "cell_type": "code",
      "execution_count": null,
      "metadata": {
        "id": "QB7SzqV8oAWM"
      },
      "outputs": [],
      "source": []
    },
    {
      "cell_type": "markdown",
      "source": [
        "**Intergrals and Area Under the Curve**\n",
        "\n",
        "Simplest Function: $area=Δ(x)*f(x)$\n",
        "This function works when f(x)=constant\n",
        "\n",
        "Area can be found geometrically by splitting the function into different sections and adding the separate areas together.\n",
        "\n",
        "Idea of Integral: Many rectangles are cut underneath the curve. The area under the curve is the area of all the small rectangles added together.\n",
        "\n",
        "ex. $∫_{0}^{2}f(x)dx$\n",
        "\n",
        "Area must be positive. If the area is below the Y-axis, take the absolute value of the area. In the case that a function is below the Y-axis and above the Y-axis, take the net area (add the negative area and the positive area together).\n"
      ],
      "metadata": {
        "id": "Ie-O0tx1d5Oz"
      }
    },
    {
      "cell_type": "markdown",
      "source": [
        "**Fundamental Theorem of Calculus and Computing Simple Integrals**\n",
        "\n",
        "Fundamental Theorem of Calculus\n",
        "\n",
        "$∫_{a}^{b}f'(x)dx=f(b)-f(a)$\n",
        "\n",
        "Taking the derivative of the antiderivative will result in the original function.\n",
        "\n",
        "ex1. $∫_{0}^{2}4dx=[4x]_0^2=4(2)-4(0)=8$\n",
        "\n",
        "ex2. $∫_{0}^{2}(x+2)dx=[\\frac{1}{2}x^2+2x]_0^2=(1/2(2^2)+2^2)-(0)=2+4=6$\n",
        "\n",
        "ex3. $∫_{0}^{2}x^2dx=[\\frac{1}{3}x^3]_0^2=\\frac{8}{3}-0=\\frac{8}{3}$"
      ],
      "metadata": {
        "id": "yodN2Mzg6wC1"
      }
    },
    {
      "cell_type": "code",
      "source": [
        "#ex1\n",
        "from sympy import *\n",
        "x = symbols('x')\n",
        "f=4\n",
        "area=integrate(f,(x,0,2))\n",
        "print(f\"ex1. {area}\")\n",
        "\n",
        "#ex2\n",
        "x = symbols('x')\n",
        "f=x+2\n",
        "area=integrate(f,(x,0,2))\n",
        "print(f\"ex2. {area}\")\n",
        "\n",
        "#ex3\n",
        "x = symbols('x')\n",
        "f=x**2\n",
        "area=integrate(f,(x,0,2))\n",
        "print(f\"ex3. {area}\")"
      ],
      "metadata": {
        "id": "2zBK_bX3Z8Tl",
        "colab": {
          "base_uri": "https://localhost:8080/"
        },
        "outputId": "2a5f13ae-0a80-45b2-dcb0-ab8233f33e97"
      },
      "execution_count": null,
      "outputs": [
        {
          "output_type": "stream",
          "name": "stdout",
          "text": [
            "ex1. 8\n",
            "ex2. 6\n",
            "ex3. 8/3\n"
          ]
        }
      ]
    },
    {
      "cell_type": "markdown",
      "source": [
        "**Computing Area Bounded by Lines and Curves**\n",
        "\n",
        "ex4. $f(x)=x^3$\n",
        "bounded by\n",
        "$x=-2$, $x=2$, $x-axis$\n",
        "\n",
        "To find the total area, take the absolute value of the negative part of the function and add it to the positive part of the function\n",
        "$|∫_{-2}^{0}x^3dx|+∫_{0}^{2}x^3dx=$\n",
        "$|[\\frac{1}{4}x^4]_{-2}^{0}|+[\\frac{1}{4}x^4]_{0}^{2}=|0-\\frac{1}{4}(-2)^4|+[\\frac{1}{4}(2)^4-0]=|-4|+4=4+4=8$"
      ],
      "metadata": {
        "id": "VWnrE7ftRKLT"
      }
    },
    {
      "cell_type": "code",
      "source": [
        "#ex4\n",
        "x = symbols('x')\n",
        "f=x**3\n",
        "area1=integrate(f,(x,-2,0))\n",
        "area2=integrate(f,(x,0,2))\n",
        "area=abs(area1)+area2\n",
        "print(f\"ex4. {area}\")"
      ],
      "metadata": {
        "id": "OlPQZpV1aI5P",
        "colab": {
          "base_uri": "https://localhost:8080/"
        },
        "outputId": "b599fda3-de51-4ed2-ef1f-5ee5fee4dbd7"
      },
      "execution_count": null,
      "outputs": [
        {
          "output_type": "stream",
          "name": "stdout",
          "text": [
            "ex4. 8\n"
          ]
        }
      ]
    },
    {
      "cell_type": "markdown",
      "source": [
        "**Indefinite Integrals**\n",
        "\n",
        "There are no limits of integration, find the antiderivative of the function\n",
        "$∫f(x)dx$\n",
        "Use $+C$ as a constant\n",
        "\n",
        "ex5. $∫x^2dx=\\frac{1}{3}x^3+C$"
      ],
      "metadata": {
        "id": "rEytUCZ2T8GZ"
      }
    },
    {
      "cell_type": "code",
      "source": [
        "#ex5\n",
        "x = symbols('x')\n",
        "f=x**2\n",
        "area=integrate(f,(x))\n",
        "print(f\"ex5. {area} +C\")"
      ],
      "metadata": {
        "id": "wQ9S6Ac6aL3z",
        "colab": {
          "base_uri": "https://localhost:8080/"
        },
        "outputId": "76a6ac2b-74b0-4988-ae74-603ce3eb21b4"
      },
      "execution_count": null,
      "outputs": [
        {
          "output_type": "stream",
          "name": "stdout",
          "text": [
            "ex5. x**3/3 +C\n"
          ]
        }
      ]
    },
    {
      "cell_type": "markdown",
      "source": [
        "**Integration by Parts**\n",
        "\n",
        "Recall Product Rule of derivatives:\n",
        "\n",
        "$(uv)'=uv'+u'v$\n",
        "\n",
        "$∫(uv)'= ∫(uv'+u'v)$\n",
        "\n",
        "$uv=∫uv'+∫vu'$\n",
        "\n",
        "$∫uv'=uv-∫vu'$ or $∫uv'=uv-∫vdu$\n",
        "\n",
        "Use this formula when you have an integral of a product\n",
        "\n",
        "ex6. $∫x^2ln(x)dx = $\n",
        "\n",
        "$v'=x^2dx, u=ln(x)$\n",
        "$v=\\frac{1}{3}x^3, u=\\frac{1}{x}dx$\n",
        "\n",
        "$\\frac{1}{3}x^3ln(x)-∫\\frac{1}{3}x^3\\frac{1}{x}dx = $\n",
        "\n",
        "$\\frac{1}{3}x^3ln(x)-\\frac{1}{3}∫x^2dx = $\n",
        "\n",
        "$\\frac{1}{3}x^3ln(x)-(\\frac{1}{3})\\frac{1}{3}x^3+C = $\n",
        "\n",
        "$\\frac{1}{3}x^3ln(x)-\\frac{1}{9}x^3+C$\n"
      ],
      "metadata": {
        "id": "x-db1GNsU0Xm"
      }
    },
    {
      "cell_type": "code",
      "source": [
        "#ex6\n",
        "x = symbols('x')\n",
        "f=x**2*ln(x)\n",
        "area=integrate(f,(x))\n",
        "print(f\"ex6. {area} +C\")"
      ],
      "metadata": {
        "id": "ZKx5w_j9aRvj",
        "colab": {
          "base_uri": "https://localhost:8080/"
        },
        "outputId": "1e66712c-8890-41b3-b6e0-34da19d8a9cb"
      },
      "execution_count": null,
      "outputs": [
        {
          "output_type": "stream",
          "name": "stdout",
          "text": [
            "ex6. x**3*log(x)/3 - x**3/9 +C\n"
          ]
        }
      ]
    },
    {
      "cell_type": "markdown",
      "source": [
        "#Week 2\n",
        "In addition to reviewing important concepts from math and statistics for data science, we'll also learn how to use Python to do some of the derivations and calculations using the **SymPy** library: https://www.sympy.org/en/index.html\n",
        "\n",
        "You can access the book *Essential Math for Data Science* through the CSULB Library [here](https://learning.oreilly.com/library/view/essential-math-for/9781098102920/?ar=). We will be using this text extensively this semester."
      ],
      "metadata": {
        "id": "-jezAre6GuEe"
      }
    },
    {
      "cell_type": "markdown",
      "source": [
        "###Essential Math for Data Science"
      ],
      "metadata": {
        "id": "u_SDBNWUR1mN"
      }
    },
    {
      "cell_type": "markdown",
      "source": [
        "**HOMEWORK** Start reading Chapter 1 of *Essential Math for Data Science*.\n",
        "1. Use **SymPy** do verify your answers to the six integrals above.\n",
        "\n",
        "2. From Chapter 1 Exercises in *Essential Math for Data Science* (pg. 39). Complete #s 7 and 8.\n",
        "\n",
        "3. Evaluate $\\int_0^\\infty \\frac{1}{5}x^2e^{-x/5}dx$"
      ],
      "metadata": {
        "id": "eRhKXpVIW-vk"
      }
    },
    {
      "cell_type": "code",
      "source": [
        "#ex7.\n",
        "#find the slope of f(x)=(3*x**2)+1 at x=3\n",
        "#calculate the derivative\n",
        "x = symbols('x')\n",
        "f=(3*x**2)+1\n",
        "#calculate derivative\n",
        "dx_f=diff(f)\n",
        "#plug in 3\n",
        "print(f\"ex7. {dx_f.subs(x,3)}\")\n",
        "\n",
        "#ex8.\n",
        "#integrate f(x)=3x**2+1 from x=0 to x=2\n",
        "x = symbols('x')\n",
        "f=(3*x**2)+1\n",
        "area=integrate(f,(x,0,2))\n",
        "\n",
        "print(f\"ex8. {area}\")\n",
        "\n",
        "#ex3.\n",
        "x = symbols('x')\n",
        "f=(1/5)*(x**2)*(E**(-x/5))\n",
        "area=integrate(f,(x,0,oo))\n",
        "print(f\"ex3. {area:.0f}\")\n"
      ],
      "metadata": {
        "id": "3fX4Ag1qRujG",
        "colab": {
          "base_uri": "https://localhost:8080/"
        },
        "outputId": "cc46c820-80b1-4d9b-d1c1-63b8414f42b1"
      },
      "execution_count": null,
      "outputs": [
        {
          "output_type": "stream",
          "name": "stdout",
          "text": [
            "ex7. 18\n",
            "ex8. 10\n",
            "ex3. 50\n"
          ]
        }
      ]
    },
    {
      "cell_type": "markdown",
      "source": [
        "###Coursera Video Notes"
      ],
      "metadata": {
        "id": "DDnzrlJhRvJP"
      }
    },
    {
      "cell_type": "markdown",
      "source": [
        "Watch at least one video from your coursera course and take notes below. Attempt to use code and LaTeX. Be prepared to share what you learned on Monday.\n"
      ],
      "metadata": {
        "id": "wbAN9OhVSCr6"
      }
    },
    {
      "cell_type": "markdown",
      "source": [
        "**Root Finding Using Bisection Method**\n",
        "\n",
        "Cons: Slow, Have to find two points that give positive and negative signs\n",
        "\n",
        "Pros: It will always converge\n",
        "How do we find the square root of 2?\n",
        "\n",
        "$x=\\sqrt{2}$\n",
        "\n",
        "$x^2=2$\n",
        "\n",
        "$x^2-2=0%$\n",
        "\n",
        "$f(x)=x^2-2$\n",
        "\n",
        "$f(1)=1$\n",
        "\n",
        " $f(2)=2$\n",
        " We know the root is in $(1,2)$\n",
        "\n",
        " Try $f(1.5)=f(\\frac{3}{2})=\\frac{9}{4}-2=\\frac{1}{4}$\n",
        "\n",
        " We know the root is in $(1, \\frac{3}{2})$\n",
        "\n",
        " Try $f(1.25)=1.5625-2<0$\n",
        "\n",
        " We know the root is in $(1.25,1.5)$"
      ],
      "metadata": {
        "id": "xPHekl6NSN8N"
      }
    },
    {
      "cell_type": "markdown",
      "source": [
        "**Root Finding Using Newton's Method**\n",
        "\n",
        "Pros: Converges quickly, Only need one point to begin\n",
        "\n",
        "Cons: It may not always converge, Need derivative\n",
        "$\\frac{f(x_n)-0}{x_n-x_{n+1}}=f'(x_n)$\n",
        "\n",
        "$f(x_n)=f'(x_n)(x_n-x_{n+1})$\n",
        "\n",
        "$\\frac{f(x_n)}{f'(x_n)}=x_n-x_{n+1}$\n",
        "\n",
        "This is Newton's Method\n",
        "\n",
        "$x_{n+1}=x_n-\\frac{f(x_n)}{f'(x_n)}$\n",
        "\n",
        "ex.\n",
        "$f'(x)=2x$\n",
        "\n",
        "$x_0=2$\n",
        "\n",
        "$x_1=x_0-\\frac{f(x_0)}{f'(x_0)}$\n",
        "$=2-\\frac{2}{4}=2-\\frac{1}{2}=\\frac{3}{2}$\n",
        "$x_2=x_1-\\frac{f(x_1)}{f'(x_1)} =1.5-\\frac{\\frac{1}{4}}{3}=\\frac{17}{12}$"
      ],
      "metadata": {
        "id": "XTvRQA3_5Zv2"
      }
    }
  ]
}