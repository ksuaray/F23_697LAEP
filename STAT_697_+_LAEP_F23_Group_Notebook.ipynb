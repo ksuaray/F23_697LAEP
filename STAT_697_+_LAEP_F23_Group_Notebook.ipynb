{
  "nbformat": 4,
  "nbformat_minor": 0,
  "metadata": {
    "colab": {
      "provenance": [],
      "include_colab_link": true
    },
    "kernelspec": {
      "name": "python3",
      "display_name": "Python 3"
    },
    "language_info": {
      "name": "python"
    }
  },
  "cells": [
    {
      "cell_type": "markdown",
      "metadata": {
        "id": "view-in-github",
        "colab_type": "text"
      },
      "source": [
        "<a href=\"https://colab.research.google.com/github/ksuaray/F23_697LAEP/blob/main/STAT_697_%2B_LAEP_F23_Group_Notebook.ipynb\" target=\"_parent\"><img src=\"https://colab.research.google.com/assets/colab-badge.svg\" alt=\"Open In Colab\"/></a>"
      ]
    },
    {
      "cell_type": "markdown",
      "source": [
        "#Welcome to STAT 697 + LAEP: Applied Data Science and Machine Learning"
      ],
      "metadata": {
        "id": "L9UJJyu9Gbpn"
      }
    },
    {
      "cell_type": "markdown",
      "source": [
        "To type mathematical text using LaTeX in Colab, use dollar signs to introduce it: $y=x^2$.\n",
        "Useful math concepts:\n",
        "1. Sigma notation/Series\n",
        "2. Probability distributions\n",
        "3. Numerical descriptive statistics\n",
        "4. Calculus - integration\n",
        "\n",
        "Datasets = matrices\n",
        "Rows = Observations\n",
        "Columns = Variables\n",
        "\n"
      ],
      "metadata": {
        "id": "zgJdZhdcGfko"
      }
    },
    {
      "cell_type": "code",
      "execution_count": null,
      "metadata": {
        "id": "jsixzap_GQq-"
      },
      "outputs": [],
      "source": []
    },
    {
      "cell_type": "markdown",
      "source": [],
      "metadata": {
        "id": "KeQpIoFqGhm7"
      }
    },
    {
      "cell_type": "markdown",
      "source": [
        "#Kevin"
      ],
      "metadata": {
        "id": "CqHM5zkbGiB0"
      }
    },
    {
      "cell_type": "code",
      "source": [],
      "metadata": {
        "id": "11seyAZmGiu5"
      },
      "execution_count": null,
      "outputs": []
    },
    {
      "cell_type": "markdown",
      "source": [],
      "metadata": {
        "id": "tZZxGb5AeiP-"
      }
    },
    {
      "cell_type": "markdown",
      "source": [
        "What do you hope to learn from this experience?"
      ],
      "metadata": {
        "id": "hPKERJJKGj19"
      }
    },
    {
      "cell_type": "markdown",
      "source": [
        "#Daniel"
      ],
      "metadata": {
        "id": "hwv6HwwwGkQw"
      }
    },
    {
      "cell_type": "code",
      "source": [
        "animalLookup = {\n",
        "    'a':['aardvark','antelope'],\n",
        "    'b':['bear'],\n",
        "    'c':['cat'],\n",
        "    'd':['dog'],\n",
        "}\n",
        "for letter, animals in animalLookup.items():\n",
        "    pass\n",
        "    for letter, animals in animalLookup.items():\n",
        "      if len(animals) > 1:\n",
        "        print(f'Found {len(animals)} {animals}')\n",
        "    break"
      ],
      "metadata": {
        "id": "oLcez89vGkr8",
        "colab": {
          "base_uri": "https://localhost:8080/"
        },
        "outputId": "2b681d1a-2352-46ec-be55-f88ef2458b0a"
      },
      "execution_count": null,
      "outputs": [
        {
          "output_type": "stream",
          "name": "stdout",
          "text": [
            "Found 2 ['aardvark', 'antelope']\n"
          ]
        }
      ]
    },
    {
      "cell_type": "markdown",
      "source": [
        "I hope to learn more data science skills and how to better myself in the business industry, as well as know how to market myself. For Python, I learned to code through Linkedln Learning. I hope to learn more Python next semester in IS 340"
      ],
      "metadata": {
        "id": "sCKdSRCaUJVe"
      }
    },
    {
      "cell_type": "markdown",
      "source": [
        "What do you hope to learn from this experience?"
      ],
      "metadata": {
        "id": "wMOoj1AHGlYl"
      }
    },
    {
      "cell_type": "markdown",
      "source": [
        "#Trisha"
      ],
      "metadata": {
        "id": "sd2jo4PIGlws"
      }
    },
    {
      "cell_type": "code",
      "source": [
        "print(\"Hi\")\n",
        "number = input(\"Enter a number: \")\n",
        "print(number)"
      ],
      "metadata": {
        "id": "XdVtVhK3GmMV"
      },
      "execution_count": null,
      "outputs": []
    },
    {
      "cell_type": "markdown",
      "source": [
        "What do you hope to learn from this experience?"
      ],
      "metadata": {
        "id": "ZvZCIhNqGm7T"
      }
    },
    {
      "cell_type": "markdown",
      "source": [
        "My python experience comes from CECS 174 and I used Zybook throughout the course. I hope to explore more about data science and figure out what I want to pursue in the future."
      ],
      "metadata": {
        "id": "LUt1O05hGnT1"
      }
    },
    {
      "cell_type": "code",
      "source": [
        "#Week 1: Fundamental Statistics and Data Wrangling"
      ],
      "metadata": {
        "id": "-lac2PE1teQH"
      },
      "execution_count": null,
      "outputs": []
    },
    {
      "cell_type": "markdown",
      "source": [
        "#Week 1: Data Wrangling with pandas"
      ],
      "metadata": {
        "id": "ZGc-Mz7Yadr5"
      }
    },
    {
      "cell_type": "markdown",
      "source": [
        "*Data Wrangling* is the process of taking raw data from a state that was optimal for collection and storage to a state that is optimal for exploration and analysis. The primary package used for this cleaning, organizing and structuring of data is **pandas**. It is pre-installed in Colab, and we can access it via an *import* statement"
      ],
      "metadata": {
        "id": "BvCLs5GAvjJ3"
      }
    },
    {
      "cell_type": "code",
      "source": [
        "import pandas as pd"
      ],
      "metadata": {
        "id": "4FvGiYKwwgyL"
      },
      "execution_count": null,
      "outputs": []
    },
    {
      "cell_type": "markdown",
      "source": [
        "If you haven't already, create an account at [Kaggle](kaggle.com). It is a central hub for learning and connecting with others about DS/ML, and one of the best places online to find datasets to practice with.\n",
        "\n",
        "Search for the *Academic Scores for NCAA Athletic Programs* dataset and download it to your computer. After cownloading it I called the file *NCAA_Acad.csv*. You can then upload it to Colab by clicking on the folder icon to the left. Then click the upload button that appears.\n",
        "\n",
        "From there, you will be able to read it into the notebook using the **read_csv** command.\n",
        "\n"
      ],
      "metadata": {
        "id": "tVdvlxoQw-JK"
      }
    },
    {
      "cell_type": "markdown",
      "source": [
        "**QUESTION 1 (Daniel)**: What do the letters in the .csv file format name represent? What does a .csv look like when you open it in a word processor like Apple Pages, Google Docs or Microsoft Word? What does it look like when you open it in a program like Apple Numbers, Google Sheets or Microsoft Excel?"
      ],
      "metadata": {
        "id": "3naQoziAyH58"
      }
    },
    {
      "cell_type": "markdown",
      "source": [],
      "metadata": {
        "id": "oBhOGy_9eb3o"
      }
    },
    {
      "cell_type": "markdown",
      "source": [
        "To read the data into this notebook, we'll use the **read_csv** function in the pandas library, as seen below. Hit the \"play\" button to execute the code.\n"
      ],
      "metadata": {
        "id": "LCALiTiSwlu2"
      }
    },
    {
      "cell_type": "code",
      "source": [
        "df = pd.read_csv(\"NCAA_Acad.csv\")\n",
        "df"
      ],
      "metadata": {
        "colab": {
          "base_uri": "https://localhost:8080/",
          "height": 704
        },
        "id": "K_pOQqIAwwvM",
        "outputId": "28d7282d-5b15-4345-c32c-df96ea1cd8df"
      },
      "execution_count": null,
      "outputs": [
        {
          "output_type": "execute_result",
          "data": {
            "text/plain": [
              "      SCHOOL_ID                    SCHOOL_NAME  SCHOOL_TYPE  ACADEMIC_YEAR  \\\n",
              "0        100654         Alabama A&M University            0           2014   \n",
              "1        100654         Alabama A&M University            0           2014   \n",
              "2        100654         Alabama A&M University            0           2014   \n",
              "3        100654         Alabama A&M University            0           2014   \n",
              "4        100654         Alabama A&M University            0           2014   \n",
              "...         ...                            ...          ...            ...   \n",
              "6506     433660  Florida Gulf Coast University            0           2014   \n",
              "6507     433660  Florida Gulf Coast University            0           2014   \n",
              "6508     433660  Florida Gulf Coast University            0           2014   \n",
              "6509     433660  Florida Gulf Coast University            0           2014   \n",
              "6510     433660  Florida Gulf Coast University            0           2014   \n",
              "\n",
              "      SPORT_CODE          SPORT_NAME  NCAA_DIVISION  NCAA_SUBDIVISION  \\\n",
              "0              1            Baseball              1                 2   \n",
              "1              4            Football              1                 2   \n",
              "2              2    Men's Basketball              1                 2   \n",
              "3              6          Men's Golf              1                 2   \n",
              "4             13        Men's Tennis              1                 2   \n",
              "...          ...                 ...            ...               ...   \n",
              "6506          31      Women's Soccer              1                 3   \n",
              "6507          29    Women's Softball              1                 3   \n",
              "6508          32    Women's Swimming              1                 3   \n",
              "6509          33      Women's Tennis              1                 3   \n",
              "6510          36  Women's Volleyball              1                 3   \n",
              "\n",
              "                       NCAA_CONFERENCE  FOURYEAR_ATHLETES  ...  \\\n",
              "0     Southwestern Athletic Conference                 80  ...   \n",
              "1     Southwestern Athletic Conference                321  ...   \n",
              "2     Southwestern Athletic Conference                 43  ...   \n",
              "3     Southwestern Athletic Conference                 22  ...   \n",
              "4     Southwestern Athletic Conference                 12  ...   \n",
              "...                                ...                ...  ...   \n",
              "6506           Atlantic Sun Conference                 88  ...   \n",
              "6507           Atlantic Sun Conference                 71  ...   \n",
              "6508           Atlantic Sun Conference                 84  ...   \n",
              "6509           Atlantic Sun Conference                 28  ...   \n",
              "6510           Atlantic Sun Conference                 46  ...   \n",
              "\n",
              "      2006_ELIGIBILITY  2006_RETENTION  2005_ATHLETES  2005_SCORE  \\\n",
              "0               0.8974          0.9487             21         917   \n",
              "1               0.9111          0.9630             74         921   \n",
              "2               0.9615          0.8462             11         909   \n",
              "3               0.8889          0.8889              7         929   \n",
              "4               0.8889          0.8889              4        1000   \n",
              "...                ...             ...            ...         ...   \n",
              "6506          -99.0000        -99.0000            -99         -99   \n",
              "6507          -99.0000        -99.0000            -99         -99   \n",
              "6508          -99.0000        -99.0000            -99         -99   \n",
              "6509          -99.0000        -99.0000            -99         -99   \n",
              "6510          -99.0000        -99.0000            -99         -99   \n",
              "\n",
              "      2005_ELIGIBILITY  2005_RETENTION  2004_ATHLETES  2004_SCORE  \\\n",
              "0               0.8810          0.9524             20         975   \n",
              "1               0.8759          0.9655             74         871   \n",
              "2               0.9091          0.9091             10         950   \n",
              "3               0.8571          1.0000            -99         -99   \n",
              "4               1.0000          1.0000              6         958   \n",
              "...                ...             ...            ...         ...   \n",
              "6506          -99.0000        -99.0000            -99         -99   \n",
              "6507          -99.0000        -99.0000            -99         -99   \n",
              "6508          -99.0000        -99.0000            -99         -99   \n",
              "6509          -99.0000        -99.0000            -99         -99   \n",
              "6510          -99.0000        -99.0000            -99         -99   \n",
              "\n",
              "      2004_ELIGIBILITY  2004_RETENTION  \n",
              "0               0.9750          0.9750  \n",
              "1               0.8601          0.8811  \n",
              "2               0.9500          0.9500  \n",
              "3             -99.0000        -99.0000  \n",
              "4               1.0000          0.9167  \n",
              "...                ...             ...  \n",
              "6506          -99.0000        -99.0000  \n",
              "6507          -99.0000        -99.0000  \n",
              "6508          -99.0000        -99.0000  \n",
              "6509          -99.0000        -99.0000  \n",
              "6510          -99.0000        -99.0000  \n",
              "\n",
              "[6511 rows x 57 columns]"
            ],
            "text/html": [
              "\n",
              "  <div id=\"df-ed84fd3f-47c1-476d-9be3-93a6176120c3\" class=\"colab-df-container\">\n",
              "    <div>\n",
              "<style scoped>\n",
              "    .dataframe tbody tr th:only-of-type {\n",
              "        vertical-align: middle;\n",
              "    }\n",
              "\n",
              "    .dataframe tbody tr th {\n",
              "        vertical-align: top;\n",
              "    }\n",
              "\n",
              "    .dataframe thead th {\n",
              "        text-align: right;\n",
              "    }\n",
              "</style>\n",
              "<table border=\"1\" class=\"dataframe\">\n",
              "  <thead>\n",
              "    <tr style=\"text-align: right;\">\n",
              "      <th></th>\n",
              "      <th>SCHOOL_ID</th>\n",
              "      <th>SCHOOL_NAME</th>\n",
              "      <th>SCHOOL_TYPE</th>\n",
              "      <th>ACADEMIC_YEAR</th>\n",
              "      <th>SPORT_CODE</th>\n",
              "      <th>SPORT_NAME</th>\n",
              "      <th>NCAA_DIVISION</th>\n",
              "      <th>NCAA_SUBDIVISION</th>\n",
              "      <th>NCAA_CONFERENCE</th>\n",
              "      <th>FOURYEAR_ATHLETES</th>\n",
              "      <th>...</th>\n",
              "      <th>2006_ELIGIBILITY</th>\n",
              "      <th>2006_RETENTION</th>\n",
              "      <th>2005_ATHLETES</th>\n",
              "      <th>2005_SCORE</th>\n",
              "      <th>2005_ELIGIBILITY</th>\n",
              "      <th>2005_RETENTION</th>\n",
              "      <th>2004_ATHLETES</th>\n",
              "      <th>2004_SCORE</th>\n",
              "      <th>2004_ELIGIBILITY</th>\n",
              "      <th>2004_RETENTION</th>\n",
              "    </tr>\n",
              "  </thead>\n",
              "  <tbody>\n",
              "    <tr>\n",
              "      <th>0</th>\n",
              "      <td>100654</td>\n",
              "      <td>Alabama A&amp;M University</td>\n",
              "      <td>0</td>\n",
              "      <td>2014</td>\n",
              "      <td>1</td>\n",
              "      <td>Baseball</td>\n",
              "      <td>1</td>\n",
              "      <td>2</td>\n",
              "      <td>Southwestern Athletic Conference</td>\n",
              "      <td>80</td>\n",
              "      <td>...</td>\n",
              "      <td>0.8974</td>\n",
              "      <td>0.9487</td>\n",
              "      <td>21</td>\n",
              "      <td>917</td>\n",
              "      <td>0.8810</td>\n",
              "      <td>0.9524</td>\n",
              "      <td>20</td>\n",
              "      <td>975</td>\n",
              "      <td>0.9750</td>\n",
              "      <td>0.9750</td>\n",
              "    </tr>\n",
              "    <tr>\n",
              "      <th>1</th>\n",
              "      <td>100654</td>\n",
              "      <td>Alabama A&amp;M University</td>\n",
              "      <td>0</td>\n",
              "      <td>2014</td>\n",
              "      <td>4</td>\n",
              "      <td>Football</td>\n",
              "      <td>1</td>\n",
              "      <td>2</td>\n",
              "      <td>Southwestern Athletic Conference</td>\n",
              "      <td>321</td>\n",
              "      <td>...</td>\n",
              "      <td>0.9111</td>\n",
              "      <td>0.9630</td>\n",
              "      <td>74</td>\n",
              "      <td>921</td>\n",
              "      <td>0.8759</td>\n",
              "      <td>0.9655</td>\n",
              "      <td>74</td>\n",
              "      <td>871</td>\n",
              "      <td>0.8601</td>\n",
              "      <td>0.8811</td>\n",
              "    </tr>\n",
              "    <tr>\n",
              "      <th>2</th>\n",
              "      <td>100654</td>\n",
              "      <td>Alabama A&amp;M University</td>\n",
              "      <td>0</td>\n",
              "      <td>2014</td>\n",
              "      <td>2</td>\n",
              "      <td>Men's Basketball</td>\n",
              "      <td>1</td>\n",
              "      <td>2</td>\n",
              "      <td>Southwestern Athletic Conference</td>\n",
              "      <td>43</td>\n",
              "      <td>...</td>\n",
              "      <td>0.9615</td>\n",
              "      <td>0.8462</td>\n",
              "      <td>11</td>\n",
              "      <td>909</td>\n",
              "      <td>0.9091</td>\n",
              "      <td>0.9091</td>\n",
              "      <td>10</td>\n",
              "      <td>950</td>\n",
              "      <td>0.9500</td>\n",
              "      <td>0.9500</td>\n",
              "    </tr>\n",
              "    <tr>\n",
              "      <th>3</th>\n",
              "      <td>100654</td>\n",
              "      <td>Alabama A&amp;M University</td>\n",
              "      <td>0</td>\n",
              "      <td>2014</td>\n",
              "      <td>6</td>\n",
              "      <td>Men's Golf</td>\n",
              "      <td>1</td>\n",
              "      <td>2</td>\n",
              "      <td>Southwestern Athletic Conference</td>\n",
              "      <td>22</td>\n",
              "      <td>...</td>\n",
              "      <td>0.8889</td>\n",
              "      <td>0.8889</td>\n",
              "      <td>7</td>\n",
              "      <td>929</td>\n",
              "      <td>0.8571</td>\n",
              "      <td>1.0000</td>\n",
              "      <td>-99</td>\n",
              "      <td>-99</td>\n",
              "      <td>-99.0000</td>\n",
              "      <td>-99.0000</td>\n",
              "    </tr>\n",
              "    <tr>\n",
              "      <th>4</th>\n",
              "      <td>100654</td>\n",
              "      <td>Alabama A&amp;M University</td>\n",
              "      <td>0</td>\n",
              "      <td>2014</td>\n",
              "      <td>13</td>\n",
              "      <td>Men's Tennis</td>\n",
              "      <td>1</td>\n",
              "      <td>2</td>\n",
              "      <td>Southwestern Athletic Conference</td>\n",
              "      <td>12</td>\n",
              "      <td>...</td>\n",
              "      <td>0.8889</td>\n",
              "      <td>0.8889</td>\n",
              "      <td>4</td>\n",
              "      <td>1000</td>\n",
              "      <td>1.0000</td>\n",
              "      <td>1.0000</td>\n",
              "      <td>6</td>\n",
              "      <td>958</td>\n",
              "      <td>1.0000</td>\n",
              "      <td>0.9167</td>\n",
              "    </tr>\n",
              "    <tr>\n",
              "      <th>...</th>\n",
              "      <td>...</td>\n",
              "      <td>...</td>\n",
              "      <td>...</td>\n",
              "      <td>...</td>\n",
              "      <td>...</td>\n",
              "      <td>...</td>\n",
              "      <td>...</td>\n",
              "      <td>...</td>\n",
              "      <td>...</td>\n",
              "      <td>...</td>\n",
              "      <td>...</td>\n",
              "      <td>...</td>\n",
              "      <td>...</td>\n",
              "      <td>...</td>\n",
              "      <td>...</td>\n",
              "      <td>...</td>\n",
              "      <td>...</td>\n",
              "      <td>...</td>\n",
              "      <td>...</td>\n",
              "      <td>...</td>\n",
              "      <td>...</td>\n",
              "    </tr>\n",
              "    <tr>\n",
              "      <th>6506</th>\n",
              "      <td>433660</td>\n",
              "      <td>Florida Gulf Coast University</td>\n",
              "      <td>0</td>\n",
              "      <td>2014</td>\n",
              "      <td>31</td>\n",
              "      <td>Women's Soccer</td>\n",
              "      <td>1</td>\n",
              "      <td>3</td>\n",
              "      <td>Atlantic Sun Conference</td>\n",
              "      <td>88</td>\n",
              "      <td>...</td>\n",
              "      <td>-99.0000</td>\n",
              "      <td>-99.0000</td>\n",
              "      <td>-99</td>\n",
              "      <td>-99</td>\n",
              "      <td>-99.0000</td>\n",
              "      <td>-99.0000</td>\n",
              "      <td>-99</td>\n",
              "      <td>-99</td>\n",
              "      <td>-99.0000</td>\n",
              "      <td>-99.0000</td>\n",
              "    </tr>\n",
              "    <tr>\n",
              "      <th>6507</th>\n",
              "      <td>433660</td>\n",
              "      <td>Florida Gulf Coast University</td>\n",
              "      <td>0</td>\n",
              "      <td>2014</td>\n",
              "      <td>29</td>\n",
              "      <td>Women's Softball</td>\n",
              "      <td>1</td>\n",
              "      <td>3</td>\n",
              "      <td>Atlantic Sun Conference</td>\n",
              "      <td>71</td>\n",
              "      <td>...</td>\n",
              "      <td>-99.0000</td>\n",
              "      <td>-99.0000</td>\n",
              "      <td>-99</td>\n",
              "      <td>-99</td>\n",
              "      <td>-99.0000</td>\n",
              "      <td>-99.0000</td>\n",
              "      <td>-99</td>\n",
              "      <td>-99</td>\n",
              "      <td>-99.0000</td>\n",
              "      <td>-99.0000</td>\n",
              "    </tr>\n",
              "    <tr>\n",
              "      <th>6508</th>\n",
              "      <td>433660</td>\n",
              "      <td>Florida Gulf Coast University</td>\n",
              "      <td>0</td>\n",
              "      <td>2014</td>\n",
              "      <td>32</td>\n",
              "      <td>Women's Swimming</td>\n",
              "      <td>1</td>\n",
              "      <td>3</td>\n",
              "      <td>Atlantic Sun Conference</td>\n",
              "      <td>84</td>\n",
              "      <td>...</td>\n",
              "      <td>-99.0000</td>\n",
              "      <td>-99.0000</td>\n",
              "      <td>-99</td>\n",
              "      <td>-99</td>\n",
              "      <td>-99.0000</td>\n",
              "      <td>-99.0000</td>\n",
              "      <td>-99</td>\n",
              "      <td>-99</td>\n",
              "      <td>-99.0000</td>\n",
              "      <td>-99.0000</td>\n",
              "    </tr>\n",
              "    <tr>\n",
              "      <th>6509</th>\n",
              "      <td>433660</td>\n",
              "      <td>Florida Gulf Coast University</td>\n",
              "      <td>0</td>\n",
              "      <td>2014</td>\n",
              "      <td>33</td>\n",
              "      <td>Women's Tennis</td>\n",
              "      <td>1</td>\n",
              "      <td>3</td>\n",
              "      <td>Atlantic Sun Conference</td>\n",
              "      <td>28</td>\n",
              "      <td>...</td>\n",
              "      <td>-99.0000</td>\n",
              "      <td>-99.0000</td>\n",
              "      <td>-99</td>\n",
              "      <td>-99</td>\n",
              "      <td>-99.0000</td>\n",
              "      <td>-99.0000</td>\n",
              "      <td>-99</td>\n",
              "      <td>-99</td>\n",
              "      <td>-99.0000</td>\n",
              "      <td>-99.0000</td>\n",
              "    </tr>\n",
              "    <tr>\n",
              "      <th>6510</th>\n",
              "      <td>433660</td>\n",
              "      <td>Florida Gulf Coast University</td>\n",
              "      <td>0</td>\n",
              "      <td>2014</td>\n",
              "      <td>36</td>\n",
              "      <td>Women's Volleyball</td>\n",
              "      <td>1</td>\n",
              "      <td>3</td>\n",
              "      <td>Atlantic Sun Conference</td>\n",
              "      <td>46</td>\n",
              "      <td>...</td>\n",
              "      <td>-99.0000</td>\n",
              "      <td>-99.0000</td>\n",
              "      <td>-99</td>\n",
              "      <td>-99</td>\n",
              "      <td>-99.0000</td>\n",
              "      <td>-99.0000</td>\n",
              "      <td>-99</td>\n",
              "      <td>-99</td>\n",
              "      <td>-99.0000</td>\n",
              "      <td>-99.0000</td>\n",
              "    </tr>\n",
              "  </tbody>\n",
              "</table>\n",
              "<p>6511 rows × 57 columns</p>\n",
              "</div>\n",
              "    <div class=\"colab-df-buttons\">\n",
              "\n",
              "  <div class=\"colab-df-container\">\n",
              "    <button class=\"colab-df-convert\" onclick=\"convertToInteractive('df-ed84fd3f-47c1-476d-9be3-93a6176120c3')\"\n",
              "            title=\"Convert this dataframe to an interactive table.\"\n",
              "            style=\"display:none;\">\n",
              "\n",
              "  <svg xmlns=\"http://www.w3.org/2000/svg\" height=\"24px\" viewBox=\"0 -960 960 960\">\n",
              "    <path d=\"M120-120v-720h720v720H120Zm60-500h600v-160H180v160Zm220 220h160v-160H400v160Zm0 220h160v-160H400v160ZM180-400h160v-160H180v160Zm440 0h160v-160H620v160ZM180-180h160v-160H180v160Zm440 0h160v-160H620v160Z\"/>\n",
              "  </svg>\n",
              "    </button>\n",
              "\n",
              "  <style>\n",
              "    .colab-df-container {\n",
              "      display:flex;\n",
              "      gap: 12px;\n",
              "    }\n",
              "\n",
              "    .colab-df-convert {\n",
              "      background-color: #E8F0FE;\n",
              "      border: none;\n",
              "      border-radius: 50%;\n",
              "      cursor: pointer;\n",
              "      display: none;\n",
              "      fill: #1967D2;\n",
              "      height: 32px;\n",
              "      padding: 0 0 0 0;\n",
              "      width: 32px;\n",
              "    }\n",
              "\n",
              "    .colab-df-convert:hover {\n",
              "      background-color: #E2EBFA;\n",
              "      box-shadow: 0px 1px 2px rgba(60, 64, 67, 0.3), 0px 1px 3px 1px rgba(60, 64, 67, 0.15);\n",
              "      fill: #174EA6;\n",
              "    }\n",
              "\n",
              "    .colab-df-buttons div {\n",
              "      margin-bottom: 4px;\n",
              "    }\n",
              "\n",
              "    [theme=dark] .colab-df-convert {\n",
              "      background-color: #3B4455;\n",
              "      fill: #D2E3FC;\n",
              "    }\n",
              "\n",
              "    [theme=dark] .colab-df-convert:hover {\n",
              "      background-color: #434B5C;\n",
              "      box-shadow: 0px 1px 3px 1px rgba(0, 0, 0, 0.15);\n",
              "      filter: drop-shadow(0px 1px 2px rgba(0, 0, 0, 0.3));\n",
              "      fill: #FFFFFF;\n",
              "    }\n",
              "  </style>\n",
              "\n",
              "    <script>\n",
              "      const buttonEl =\n",
              "        document.querySelector('#df-ed84fd3f-47c1-476d-9be3-93a6176120c3 button.colab-df-convert');\n",
              "      buttonEl.style.display =\n",
              "        google.colab.kernel.accessAllowed ? 'block' : 'none';\n",
              "\n",
              "      async function convertToInteractive(key) {\n",
              "        const element = document.querySelector('#df-ed84fd3f-47c1-476d-9be3-93a6176120c3');\n",
              "        const dataTable =\n",
              "          await google.colab.kernel.invokeFunction('convertToInteractive',\n",
              "                                                    [key], {});\n",
              "        if (!dataTable) return;\n",
              "\n",
              "        const docLinkHtml = 'Like what you see? Visit the ' +\n",
              "          '<a target=\"_blank\" href=https://colab.research.google.com/notebooks/data_table.ipynb>data table notebook</a>'\n",
              "          + ' to learn more about interactive tables.';\n",
              "        element.innerHTML = '';\n",
              "        dataTable['output_type'] = 'display_data';\n",
              "        await google.colab.output.renderOutput(dataTable, element);\n",
              "        const docLink = document.createElement('div');\n",
              "        docLink.innerHTML = docLinkHtml;\n",
              "        element.appendChild(docLink);\n",
              "      }\n",
              "    </script>\n",
              "  </div>\n",
              "\n",
              "\n",
              "<div id=\"df-c352b5a7-441b-4c08-8c5c-b79a96e553dd\">\n",
              "  <button class=\"colab-df-quickchart\" onclick=\"quickchart('df-c352b5a7-441b-4c08-8c5c-b79a96e553dd')\"\n",
              "            title=\"Suggest charts.\"\n",
              "            style=\"display:none;\">\n",
              "\n",
              "<svg xmlns=\"http://www.w3.org/2000/svg\" height=\"24px\"viewBox=\"0 0 24 24\"\n",
              "     width=\"24px\">\n",
              "    <g>\n",
              "        <path d=\"M19 3H5c-1.1 0-2 .9-2 2v14c0 1.1.9 2 2 2h14c1.1 0 2-.9 2-2V5c0-1.1-.9-2-2-2zM9 17H7v-7h2v7zm4 0h-2V7h2v10zm4 0h-2v-4h2v4z\"/>\n",
              "    </g>\n",
              "</svg>\n",
              "  </button>\n",
              "\n",
              "<style>\n",
              "  .colab-df-quickchart {\n",
              "      --bg-color: #E8F0FE;\n",
              "      --fill-color: #1967D2;\n",
              "      --hover-bg-color: #E2EBFA;\n",
              "      --hover-fill-color: #174EA6;\n",
              "      --disabled-fill-color: #AAA;\n",
              "      --disabled-bg-color: #DDD;\n",
              "  }\n",
              "\n",
              "  [theme=dark] .colab-df-quickchart {\n",
              "      --bg-color: #3B4455;\n",
              "      --fill-color: #D2E3FC;\n",
              "      --hover-bg-color: #434B5C;\n",
              "      --hover-fill-color: #FFFFFF;\n",
              "      --disabled-bg-color: #3B4455;\n",
              "      --disabled-fill-color: #666;\n",
              "  }\n",
              "\n",
              "  .colab-df-quickchart {\n",
              "    background-color: var(--bg-color);\n",
              "    border: none;\n",
              "    border-radius: 50%;\n",
              "    cursor: pointer;\n",
              "    display: none;\n",
              "    fill: var(--fill-color);\n",
              "    height: 32px;\n",
              "    padding: 0;\n",
              "    width: 32px;\n",
              "  }\n",
              "\n",
              "  .colab-df-quickchart:hover {\n",
              "    background-color: var(--hover-bg-color);\n",
              "    box-shadow: 0 1px 2px rgba(60, 64, 67, 0.3), 0 1px 3px 1px rgba(60, 64, 67, 0.15);\n",
              "    fill: var(--button-hover-fill-color);\n",
              "  }\n",
              "\n",
              "  .colab-df-quickchart-complete:disabled,\n",
              "  .colab-df-quickchart-complete:disabled:hover {\n",
              "    background-color: var(--disabled-bg-color);\n",
              "    fill: var(--disabled-fill-color);\n",
              "    box-shadow: none;\n",
              "  }\n",
              "\n",
              "  .colab-df-spinner {\n",
              "    border: 2px solid var(--fill-color);\n",
              "    border-color: transparent;\n",
              "    border-bottom-color: var(--fill-color);\n",
              "    animation:\n",
              "      spin 1s steps(1) infinite;\n",
              "  }\n",
              "\n",
              "  @keyframes spin {\n",
              "    0% {\n",
              "      border-color: transparent;\n",
              "      border-bottom-color: var(--fill-color);\n",
              "      border-left-color: var(--fill-color);\n",
              "    }\n",
              "    20% {\n",
              "      border-color: transparent;\n",
              "      border-left-color: var(--fill-color);\n",
              "      border-top-color: var(--fill-color);\n",
              "    }\n",
              "    30% {\n",
              "      border-color: transparent;\n",
              "      border-left-color: var(--fill-color);\n",
              "      border-top-color: var(--fill-color);\n",
              "      border-right-color: var(--fill-color);\n",
              "    }\n",
              "    40% {\n",
              "      border-color: transparent;\n",
              "      border-right-color: var(--fill-color);\n",
              "      border-top-color: var(--fill-color);\n",
              "    }\n",
              "    60% {\n",
              "      border-color: transparent;\n",
              "      border-right-color: var(--fill-color);\n",
              "    }\n",
              "    80% {\n",
              "      border-color: transparent;\n",
              "      border-right-color: var(--fill-color);\n",
              "      border-bottom-color: var(--fill-color);\n",
              "    }\n",
              "    90% {\n",
              "      border-color: transparent;\n",
              "      border-bottom-color: var(--fill-color);\n",
              "    }\n",
              "  }\n",
              "</style>\n",
              "\n",
              "  <script>\n",
              "    async function quickchart(key) {\n",
              "      const quickchartButtonEl =\n",
              "        document.querySelector('#' + key + ' button');\n",
              "      quickchartButtonEl.disabled = true;  // To prevent multiple clicks.\n",
              "      quickchartButtonEl.classList.add('colab-df-spinner');\n",
              "      try {\n",
              "        const charts = await google.colab.kernel.invokeFunction(\n",
              "            'suggestCharts', [key], {});\n",
              "      } catch (error) {\n",
              "        console.error('Error during call to suggestCharts:', error);\n",
              "      }\n",
              "      quickchartButtonEl.classList.remove('colab-df-spinner');\n",
              "      quickchartButtonEl.classList.add('colab-df-quickchart-complete');\n",
              "    }\n",
              "    (() => {\n",
              "      let quickchartButtonEl =\n",
              "        document.querySelector('#df-c352b5a7-441b-4c08-8c5c-b79a96e553dd button');\n",
              "      quickchartButtonEl.style.display =\n",
              "        google.colab.kernel.accessAllowed ? 'block' : 'none';\n",
              "    })();\n",
              "  </script>\n",
              "</div>\n",
              "    </div>\n",
              "  </div>\n"
            ]
          },
          "metadata": {},
          "execution_count": 3
        }
      ]
    },
    {
      "cell_type": "markdown",
      "source": [
        "This creates an object called a pandas *DataFrame* in Python. Remember that the rows are observations, the columns are variables - both typed in bold. The numbers and words in the middle are values corresponding to the unique \"location\" defined by a specific observation and variable.\n"
      ],
      "metadata": {
        "id": "zFc5Qr3Dzzty"
      }
    },
    {
      "cell_type": "markdown",
      "source": [
        "**QUESTION 2 (Trisha)**: Based on the output above, complete the following sentences:\n",
        "* The number of observations is\n",
        "\n",
        "* The number of variables is"
      ],
      "metadata": {
        "id": "qxhJAmrU0uKL"
      }
    },
    {
      "cell_type": "markdown",
      "source": [
        "We can verify this by using the **shape** attribute"
      ],
      "metadata": {
        "id": "BRKEYrjk1RYc"
      }
    },
    {
      "cell_type": "code",
      "source": [
        "df.shape"
      ],
      "metadata": {
        "colab": {
          "base_uri": "https://localhost:8080/"
        },
        "id": "mL2V60Hg0s_m",
        "outputId": "6f3b0212-7371-441c-d524-ed6ca9a6c394"
      },
      "execution_count": null,
      "outputs": [
        {
          "output_type": "execute_result",
          "data": {
            "text/plain": [
              "(6511, 57)"
            ]
          },
          "metadata": {},
          "execution_count": 7
        }
      ]
    },
    {
      "cell_type": "markdown",
      "source": [
        "**QUESTION 3 (Kevin)**: Use Chat GPT or any other resource to figure out how to use the **pd.set_option** command to show all columns in the data frame."
      ],
      "metadata": {
        "id": "1HU-u5El2Ywr"
      }
    },
    {
      "cell_type": "code",
      "source": [],
      "metadata": {
        "id": "XwhOjtK2eWhb"
      },
      "execution_count": null,
      "outputs": []
    },
    {
      "cell_type": "markdown",
      "source": [
        "**QUESTION 4 (Daniel)**: Take a look at the values in the data. Does anything look obviously suspect?"
      ],
      "metadata": {
        "id": "Q5YdfvnhzpfL"
      }
    },
    {
      "cell_type": "markdown",
      "source": [],
      "metadata": {
        "id": "m4Qc60aWeYp3"
      }
    },
    {
      "cell_type": "markdown",
      "source": [
        "The ELIGIBILITY variable records the proportion of student athletes that were able to compete in a given year."
      ],
      "metadata": {
        "id": "La4YBIfF3hXj"
      }
    },
    {
      "cell_type": "code",
      "source": [
        "df['FOURYEAR_ATHLETES'].describe()"
      ],
      "metadata": {
        "colab": {
          "base_uri": "https://localhost:8080/"
        },
        "id": "jH73KFCv3Sdv",
        "outputId": "f39bb16f-110f-4c77-ae60-92b894d19fde"
      },
      "execution_count": null,
      "outputs": [
        {
          "output_type": "execute_result",
          "data": {
            "text/plain": [
              "count    6511.000000\n",
              "mean       76.191368\n",
              "std        63.082719\n",
              "min       -99.000000\n",
              "25%        39.000000\n",
              "50%        58.000000\n",
              "75%        94.000000\n",
              "max       452.000000\n",
              "Name: FOURYEAR_ATHLETES, dtype: float64"
            ]
          },
          "metadata": {},
          "execution_count": 4
        }
      ]
    },
    {
      "cell_type": "markdown",
      "source": [
        "Based on these results (minus the obvious issue we need to resolve), it seems like the vast majority of student athletes do not struggle with eligibility issues."
      ],
      "metadata": {
        "id": "kYpaCrYlZRjw"
      }
    },
    {
      "cell_type": "markdown",
      "source": [
        "Most data found on websites like Kaggle will have minimal issues we need to clean up. In this one, you may notice"
      ],
      "metadata": {
        "id": "Ae9Siz-izbld"
      }
    },
    {
      "cell_type": "markdown",
      "source": [
        "**QUESTION 5a (Trisha):** Choose a quantitative variable to describe. What can you infer about the population of NCAA Division 1 schools based on the ersults?"
      ],
      "metadata": {
        "id": "MquiAd-8ZlXo"
      }
    },
    {
      "cell_type": "code",
      "source": [],
      "metadata": {
        "id": "FCa9Xv9_Z6WH"
      },
      "execution_count": null,
      "outputs": []
    },
    {
      "cell_type": "markdown",
      "source": [],
      "metadata": {
        "id": "u1tV5KZ7Z659"
      }
    },
    {
      "cell_type": "markdown",
      "source": [
        "**QUESTION 5b (Kevin):** Choose a quantitative variable to describe. What can you infer about the population of NCAA Division 1 schools based on the ersults?"
      ],
      "metadata": {
        "id": "e03dpjKBZ7ZU"
      }
    },
    {
      "cell_type": "code",
      "source": [],
      "metadata": {
        "id": "rLwYrwU1aJ6V"
      },
      "execution_count": null,
      "outputs": []
    },
    {
      "cell_type": "markdown",
      "source": [
        "**QUESTION 5c (Daniel):** Choose a quantitative variable to describe. What can you infer about the population of NCAA Division 1 schools based on the ersults?"
      ],
      "metadata": {
        "id": "jSo4U7HTaBuw"
      }
    },
    {
      "cell_type": "code",
      "source": [],
      "metadata": {
        "id": "kvAlj5m1ZkW6"
      },
      "execution_count": null,
      "outputs": []
    },
    {
      "cell_type": "markdown",
      "source": [
        "##Subsetting Data\n",
        "Data science is all about asking relevant questions about the data and making a way to answer them using tools from computer science and statistical reasoning. Some basic questions could be\n",
        "* What does the data look like if we are only interested in one sport?\n",
        "* What does the data look like if we are only interested in one conference?\n",
        "* What does the data look like if we are only interested in schools with more than 100 athletes?\n",
        "Many similar questions can be used to slice the data and select a subset that is of relevance to us. Select one of the above or a similar question to answer below. You can use ChatGPT or any online resource to guide you. [This cheat sheet](https://pandas.pydata.org/Pandas_Cheat_Sheet.pdf) is also very useful.\n",
        "\n",
        "\n"
      ],
      "metadata": {
        "id": "cEVHhGACbLyB"
      }
    },
    {
      "cell_type": "markdown",
      "source": [],
      "metadata": {
        "id": "vMT4BizzeAjN"
      }
    },
    {
      "cell_type": "markdown",
      "source": [
        "**QUESTION 6a (Trisha):** Example of subsetting data"
      ],
      "metadata": {
        "id": "-YWYtye6eFGP"
      }
    },
    {
      "cell_type": "markdown",
      "source": [
        "**QUESTION 6a (Kevin):** Example of subsetting data"
      ],
      "metadata": {
        "id": "RyRrsBHneMJS"
      }
    },
    {
      "cell_type": "markdown",
      "source": [
        "**QUESTION 6a (Daniel):** Example of subsetting data"
      ],
      "metadata": {
        "id": "7OPM_LWJeMXS"
      }
    }
  ]
}