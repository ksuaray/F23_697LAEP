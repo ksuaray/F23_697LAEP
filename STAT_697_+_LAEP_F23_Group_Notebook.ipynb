{
  "nbformat": 4,
  "nbformat_minor": 0,
  "metadata": {
    "colab": {
      "provenance": [],
      "include_colab_link": true
    },
    "kernelspec": {
      "name": "python3",
      "display_name": "Python 3"
    },
    "language_info": {
      "name": "python"
    }
  },
  "cells": [
    {
      "cell_type": "markdown",
      "metadata": {
        "id": "view-in-github",
        "colab_type": "text"
      },
      "source": [
        "<a href=\"https://colab.research.google.com/github/ksuaray/F23_697LAEP/blob/main/STAT_697_%2B_LAEP_F23_Group_Notebook.ipynb\" target=\"_parent\"><img src=\"https://colab.research.google.com/assets/colab-badge.svg\" alt=\"Open In Colab\"/></a>"
      ]
    },
    {
      "cell_type": "markdown",
      "source": [
        "#Welcome to STAT 697 + LAEP: Applied Data Science and Machine Learning"
      ],
      "metadata": {
        "id": "L9UJJyu9Gbpn"
      }
    },
    {
      "cell_type": "markdown",
      "source": [
        "To type mathematical text using LaTeX in Colab, use dollar signs to introduce it: $y=x^2$.\n",
        "Useful math concepts:\n",
        "1. Sigma notation/Series\n",
        "2. Probability distributions\n",
        "3. Numerical descriptive statistics\n",
        "4. Calculus - integration\n",
        "\n",
        "Datasets = matrices\n",
        "Rows = Observations\n",
        "Columns = Variables\n",
        "\n"
      ],
      "metadata": {
        "id": "zgJdZhdcGfko"
      }
    },
    {
      "cell_type": "code",
      "execution_count": null,
      "metadata": {
        "id": "jsixzap_GQq-"
      },
      "outputs": [],
      "source": []
    },
    {
      "cell_type": "markdown",
      "source": [],
      "metadata": {
        "id": "KeQpIoFqGhm7"
      }
    },
    {
      "cell_type": "markdown",
      "source": [
        "#Kevin"
      ],
      "metadata": {
        "id": "CqHM5zkbGiB0"
      }
    },
    {
      "cell_type": "code",
      "source": [],
      "metadata": {
        "id": "11seyAZmGiu5"
      },
      "execution_count": null,
      "outputs": []
    },
    {
      "cell_type": "markdown",
      "source": [],
      "metadata": {
        "id": "tZZxGb5AeiP-"
      }
    },
    {
      "cell_type": "markdown",
      "source": [
        "What do you hope to learn from this experience?"
      ],
      "metadata": {
        "id": "hPKERJJKGj19"
      }
    },
    {
      "cell_type": "markdown",
      "source": [
        "#Daniel"
      ],
      "metadata": {
        "id": "hwv6HwwwGkQw"
      }
    },
    {
      "cell_type": "code",
      "source": [
        "animalLookup = {\n",
        "    'a':['aardvark','antelope'],\n",
        "    'b':['bear'],\n",
        "    'c':['cat'],\n",
        "    'd':['dog'],\n",
        "}\n",
        "for letter, animals in animalLookup.items():\n",
        "    pass\n",
        "    for letter, animals in animalLookup.items():\n",
        "      if len(animals) > 1:\n",
        "        print(f'Found {len(animals)} {animals}')\n",
        "    break"
      ],
      "metadata": {
        "id": "oLcez89vGkr8",
        "colab": {
          "base_uri": "https://localhost:8080/"
        },
        "outputId": "2b681d1a-2352-46ec-be55-f88ef2458b0a"
      },
      "execution_count": null,
      "outputs": [
        {
          "output_type": "stream",
          "name": "stdout",
          "text": [
            "Found 2 ['aardvark', 'antelope']\n"
          ]
        }
      ]
    },
    {
      "cell_type": "markdown",
      "source": [
        "I hope to learn more data science skills and how to better myself in the business industry, as well as know how to market myself. For Python, I learned to code through Linkedln Learning. I hope to learn more Python next semester in IS 340"
      ],
      "metadata": {
        "id": "sCKdSRCaUJVe"
      }
    },
    {
      "cell_type": "markdown",
      "source": [
        "What do you hope to learn from this experience?"
      ],
      "metadata": {
        "id": "wMOoj1AHGlYl"
      }
    },
    {
      "cell_type": "markdown",
      "source": [
        "#Trisha"
      ],
      "metadata": {
        "id": "sd2jo4PIGlws"
      }
    },
    {
      "cell_type": "code",
      "source": [
        "print(\"Hi\")\n",
        "number = input(\"Enter a number: \")\n",
        "print(number)"
      ],
      "metadata": {
        "id": "XdVtVhK3GmMV"
      },
      "execution_count": null,
      "outputs": []
    },
    {
      "cell_type": "markdown",
      "source": [
        "What do you hope to learn from this experience?"
      ],
      "metadata": {
        "id": "ZvZCIhNqGm7T"
      }
    },
    {
      "cell_type": "markdown",
      "source": [
        "My python experience comes from CECS 174 and I used Zybook throughout the course. I hope to explore more about data science and figure out what I want to pursue in the future."
      ],
      "metadata": {
        "id": "LUt1O05hGnT1"
      }
    },
    {
      "cell_type": "code",
      "source": [],
      "metadata": {
        "id": "jfcAh6d-Gnsj"
      },
      "execution_count": null,
      "outputs": []
    }
  ]
}